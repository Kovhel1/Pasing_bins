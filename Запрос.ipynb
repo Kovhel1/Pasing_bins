{
  "nbformat": 4,
  "nbformat_minor": 0,
  "metadata": {
    "colab": {
      "name": "Запрос.ipynb",
      "provenance": [],
      "collapsed_sections": [
        "bFA4pSAZ2KzP"
      ]
    },
    "kernelspec": {
      "name": "python3",
      "display_name": "Python 3"
    },
    "language_info": {
      "name": "python"
    }
  },
  "cells": [
    {
      "cell_type": "code",
      "source": [
        "bins = [\n",
        "    '004443', '220005', '220006', '220009', '220012',\n",
        "    '220013', '220014', '220016', '220018', '220022',\n",
        "    '220031', '220032', '220033', '220037', '220043',\n",
        "    '220046', '220047', '220049', '220052', '220055',\n",
        "    '220056', '220057', '220058', '220059', '220061',\n",
        "    '220064', '220066', '220074', '220076', '220078',\n",
        "    '220080', '220082', '220083', '220084', '220087',\n"
        "]"
      ],
      "metadata": {
        "id": "qm6E5WG32O8b"
      },
      "execution_count": 124,
      "outputs": []
    },
    {
      "cell_type": "code",
      "source": [
        "import requests\n",
        "\n",
        "url = \"https://bin-ip-checker.p.rapidapi.com/\"\n",
        "headers = {\n",
        "\t\"content-type\": \"application/json\",\n",
        "\t\"X-RapidAPI-Key\": \"ab8b8c83d5msh780e2bc27db536cp1df682jsn76db90722239\",\n",
        "\t\"X-RapidAPI-Host\": \"bin-ip-checker.p.rapidapi.com\"\n",
        "}\n",
        "result = ''\n",
        "\n",
        "for bin in bins:\n",
        "  \n",
        "  payload = {\"bin\": bin}\n",
        "  print(payload)\n",
        "  \n",
        "  response = requests.request(\"POST\", url, json=payload, headers=headers, params=payload)\n",
        "  \n",
        "  if (response.status_code != 200):\n",
        "      continue\n",
        "\n",
        "  response = json.loads(response.text)\n",
        "  \n",
        "  if(response['BIN']['issuer']['name'] != '' and response['BIN']['issuer']['name'] != '------'):\n",
        "    bank = response['BIN']['issuer']['name']\n",
        "    country = response['BIN']['country'][ 'alpha2']\n",
        "  else:\n",
        "    continue\n",
        "\n",
        "  result =  result +'insert into banks(bin, name, country) values('+bin+',\\''+bank+'\\',\\''+country+'\\'),\\n'\n",
        "  \n",
        "print(result)\n"
      ],
      "metadata": {
        "id": "O1-tWRUI8D2y"
      },
      "execution_count": null,
      "outputs": []
    },
    {
      "cell_type": "code",
      "source": [
        "ls"
      ],
      "metadata": {
        "id": "W7Wt6wCC4uRV",
        "colab": {
          "base_uri": "https://localhost:8080/"
        },
        "outputId": "27eda488-d766-45f8-fd6a-0875be5120a4"
      },
      "execution_count": 126,
      "outputs": [
        {
          "output_type": "stream",
          "name": "stdout",
          "text": [
            "banks_new.txt  banks.txt  \u001b[0m\u001b[01;34msample_data\u001b[0m/\n"
          ]
        }
      ]
    },
    {
      "cell_type": "code",
      "source": [
        "from google.colab import files\n",
        "f = open('banks_new.txt', 'w')\n",
        "f.write(result)\n",
        "f.close()\n",
        "files.download('banks_new.txt')"
      ],
      "metadata": {
        "colab": {
          "base_uri": "https://localhost:8080/",
          "height": 17
        },
        "id": "RAcL44M74opB",
        "outputId": "abb59e36-363f-42e4-f365-d8455e3ab840"
      },
      "execution_count": 127,
      "outputs": [
        {
          "output_type": "display_data",
          "data": {
            "text/plain": [
              "<IPython.core.display.Javascript object>"
            ],
            "application/javascript": [
              "\n",
              "    async function download(id, filename, size) {\n",
              "      if (!google.colab.kernel.accessAllowed) {\n",
              "        return;\n",
              "      }\n",
              "      const div = document.createElement('div');\n",
              "      const label = document.createElement('label');\n",
              "      label.textContent = `Downloading \"${filename}\": `;\n",
              "      div.appendChild(label);\n",
              "      const progress = document.createElement('progress');\n",
              "      progress.max = size;\n",
              "      div.appendChild(progress);\n",
              "      document.body.appendChild(div);\n",
              "\n",
              "      const buffers = [];\n",
              "      let downloaded = 0;\n",
              "\n",
              "      const channel = await google.colab.kernel.comms.open(id);\n",
              "      // Send a message to notify the kernel that we're ready.\n",
              "      channel.send({})\n",
              "\n",
              "      for await (const message of channel.messages) {\n",
              "        // Send a message to notify the kernel that we're ready.\n",
              "        channel.send({})\n",
              "        if (message.buffers) {\n",
              "          for (const buffer of message.buffers) {\n",
              "            buffers.push(buffer);\n",
              "            downloaded += buffer.byteLength;\n",
              "            progress.value = downloaded;\n",
              "          }\n",
              "        }\n",
              "      }\n",
              "      const blob = new Blob(buffers, {type: 'application/binary'});\n",
              "      const a = document.createElement('a');\n",
              "      a.href = window.URL.createObjectURL(blob);\n",
              "      a.download = filename;\n",
              "      div.appendChild(a);\n",
              "      a.click();\n",
              "      div.remove();\n",
              "    }\n",
              "  "
            ]
          },
          "metadata": {}
        },
        {
          "output_type": "display_data",
          "data": {
            "text/plain": [
              "<IPython.core.display.Javascript object>"
            ],
            "application/javascript": [
              "download(\"download_0b28f5d3-ef54-47c7-80d3-c9dc0dfc3d3e\", \"banks_new.txt\", 893)"
            ]
          },
          "metadata": {}
        }
      ]
    }
  ]
}
