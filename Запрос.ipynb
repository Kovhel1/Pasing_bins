{
  "nbformat": 4,
  "nbformat_minor": 0,
  "metadata": {
    "colab": {
      "name": "Запрос.ipynb",
      "provenance": [],
      "collapsed_sections": [
        "bFA4pSAZ2KzP"
      ]
    },
    "kernelspec": {
      "name": "python3",
      "display_name": "Python 3"
    },
    "language_info": {
      "name": "python"
    }
  },
  "cells": [
    {
      "cell_type": "markdown",
      "source": [
        "## Массив bin`ов (тестовый)"
      ],
      "metadata": {
        "id": "yLvatueFKAnI"
      }
    },
    {
      "cell_type": "code",
      "source": [
        "bins = [\n",
        "    '004443', '220005', '220006', '220009', '220012',\n",
        "    '220013', '220014', '220016', '220018', '220022',\n",
        "    '220031', '220032', '220033', '220037', '220043',\n",
        "    '220046', '220047', '220049', '220052', '220055',\n",
        "    '220056', '220057', '220058', '220059', '220061',\n",
        "    '220064', '220066', '220074', '220076', '220078',\n",
        "    '220080', '220082', '220083', '220084', '220087'\n",
        "]"
      ],
      "metadata": {
        "id": "qm6E5WG32O8b"
      },
      "execution_count": 177,
      "outputs": []
    },
    {
      "cell_type": "markdown",
      "source": [
        "## Вариант доступа через официальное API (ограничение: 1000/мес, далее платно, либо пишет пустоту(типо не определил))"
      ],
      "metadata": {
        "id": "6gqHOStnDxbV"
      }
    },
    {
      "cell_type": "code",
      "source": [
        "import requests\n",
        "\n",
        "file_name = 'type1.txt'\n",
        "\n",
        "url = \"https://bin-ip-checker.p.rapidapi.com/\"\n",
        "headers = {\n",
        "\t\"content-type\": \"application/json\",\n",
        "\t\"X-RapidAPI-Key\": \"ab8b8c83d5msh780e2bc27db536cp1df682jsn76db90722239\",\n",
        "\t\"X-RapidAPI-Host\": \"bin-ip-checker.p.rapidapi.com\"\n",
        "}\n",
        "result = ''\n",
        "\n",
        "for bin in bins:\n",
        "  \n",
        "  payload = {\"bin\": bin}\n",
        "  print(payload)\n",
        "  \n",
        "  response = requests.request(\"POST\", url, json=payload, headers=headers, params=payload)\n",
        "  \n",
        "  if (response.status_code != 200):\n",
        "      continue\n",
        "\n",
        "  response = json.loads(response.text)\n",
        "  \n",
        "  if(response['BIN']['issuer']['name'] != '' and response['BIN']['issuer']['name'] != '------'):\n",
        "    bank = response['BIN']['issuer']['name']\n",
        "    country = response['BIN']['country'][ 'alpha2']\n",
        "  else:\n",
        "    continue\n",
        "\n",
        "  result =  result +'insert into banks(bin, name, country) values('+bin+',\\''+bank+'\\',\\''+country+'\\'),\\n'\n",
        "  \n",
        "print(result)\n"
      ],
      "metadata": {
        "colab": {
          "base_uri": "https://localhost:8080/"
        },
        "outputId": "edf940b3-09cd-4668-eb50-c5ae60fd9814",
        "id": "O1-tWRUI8D2y"
      },
      "execution_count": 136,
      "outputs": [
        {
          "output_type": "stream",
          "name": "stdout",
          "text": [
            "{'bin': '220065'}\n",
            "{'bin': '220065'}\n",
            "insert into banks(bin, name, country) values(220065,'VTB BANK OJSC','RU'),\n",
            "insert into banks(bin, name, country) values(220065,'VTB BANK OJSC','RU'),\n",
            "\n"
          ]
        }
      ]
    },
    {
      "cell_type": "markdown",
      "source": [
        "## \"Хитрый\" вариант"
      ],
      "metadata": {
        "id": "_k9ryYL_D6lO"
      }
    },
    {
      "cell_type": "code",
      "source": [
        "import requests\n",
        "import json\n",
        "\n",
        "file_name = 'type2.txt'\n",
        "result = ''\n",
        "\n",
        "for bin in bins:\n",
        "  bin_url = url + bin\n",
        "  page_text = requests.get(bin_url).text\n",
        "  #print(page_text)\n",
        "  \n",
        "  #bank\n",
        "  comment_index = page_text.find('//Same Country BINs')\n",
        "  index_data = page_text.find('data:', comment_index)\n",
        "  index_success = page_text.find('},', index_data)\n",
        "  data = page_text[index_data:index_success+1]\n",
        "  data = data.replace('data:', '')\n",
        "  data = data.replace('issuer_name', '\"issuer_name\"')\n",
        "  data = data.replace('country_name', '\"country_name\"')\n",
        "  data = data.replace('\\'', '\"')\n",
        "  data = json.loads(data)\n",
        "  bank = data['issuer_name']\n",
        "  #country = data['country_name']\n",
        "\n",
        "  #country\n",
        "  comment_index = page_text.find('Код страны ISO A2')\n",
        "  index_data = page_text.find('class=\"p-2\">', comment_index)\n",
        "  index_success = page_text.find('</td>', index_data)\n",
        "  country = page_text[index_data:index_success+1]\n",
        "  country = country.replace('class=\"p-2\">', '')\n",
        "  country = country.replace('<', '')\n",
        "\n",
        "  if(bank != ''):\n",
        "    result = result + 'insert into banks(bin, name, country) values('+bin+',\\''+bank+'\\',\\''+country+'\\'),\\n'\n",
        "\n",
        "print(result)\n"
      ],
      "metadata": {
        "colab": {
          "base_uri": "https://localhost:8080/"
        },
        "outputId": "4896a45d-5039-4c3a-9760-7a53661250e3",
        "id": "EeyfrS_hQlMz"
      },
      "execution_count": 183,
      "outputs": [
        {
          "output_type": "stream",
          "name": "stdout",
          "text": [
            "insert into banks(bin, name, country) values(557885,'BELARUSSIAN BANK OF DEVELOPMENT AND RECONSTRUCTION BELINVESTBANK JSC','BY'),\n",
            "\n"
          ]
        }
      ]
    },
    {
      "cell_type": "markdown",
      "source": [
        "## Печать результата в файл и выгрузка"
      ],
      "metadata": {
        "id": "Y6OzzQstEDML"
      }
    },
    {
      "cell_type": "code",
      "source": [
        "from google.colab import files\n",
        "f = open(file_name, 'w')\n",
        "f.write(result)\n",
        "f.close()\n",
        "files.download(file_name)"
      ],
      "metadata": {
        "colab": {
          "base_uri": "https://localhost:8080/",
          "height": 17
        },
        "id": "RAcL44M74opB",
        "outputId": "da838ed5-8848-4bb6-acdd-efa1d43b981f"
      },
      "execution_count": 182,
      "outputs": [
        {
          "output_type": "display_data",
          "data": {
            "text/plain": [
              "<IPython.core.display.Javascript object>"
            ],
            "application/javascript": [
              "\n",
              "    async function download(id, filename, size) {\n",
              "      if (!google.colab.kernel.accessAllowed) {\n",
              "        return;\n",
              "      }\n",
              "      const div = document.createElement('div');\n",
              "      const label = document.createElement('label');\n",
              "      label.textContent = `Downloading \"${filename}\": `;\n",
              "      div.appendChild(label);\n",
              "      const progress = document.createElement('progress');\n",
              "      progress.max = size;\n",
              "      div.appendChild(progress);\n",
              "      document.body.appendChild(div);\n",
              "\n",
              "      const buffers = [];\n",
              "      let downloaded = 0;\n",
              "\n",
              "      const channel = await google.colab.kernel.comms.open(id);\n",
              "      // Send a message to notify the kernel that we're ready.\n",
              "      channel.send({})\n",
              "\n",
              "      for await (const message of channel.messages) {\n",
              "        // Send a message to notify the kernel that we're ready.\n",
              "        channel.send({})\n",
              "        if (message.buffers) {\n",
              "          for (const buffer of message.buffers) {\n",
              "            buffers.push(buffer);\n",
              "            downloaded += buffer.byteLength;\n",
              "            progress.value = downloaded;\n",
              "          }\n",
              "        }\n",
              "      }\n",
              "      const blob = new Blob(buffers, {type: 'application/binary'});\n",
              "      const a = document.createElement('a');\n",
              "      a.href = window.URL.createObjectURL(blob);\n",
              "      a.download = filename;\n",
              "      div.appendChild(a);\n",
              "      a.click();\n",
              "      div.remove();\n",
              "    }\n",
              "  "
            ]
          },
          "metadata": {}
        },
        {
          "output_type": "display_data",
          "data": {
            "text/plain": [
              "<IPython.core.display.Javascript object>"
            ],
            "application/javascript": [
              "download(\"download_dcd92c5c-b044-4787-aa8a-090516110b44\", \"type2.txt\", 351261)"
            ]
          },
          "metadata": {}
        }
      ]
    },
    {
      "cell_type": "code",
      "source": [
        "ls"
      ],
      "metadata": {
        "id": "W7Wt6wCC4uRV",
        "colab": {
          "base_uri": "https://localhost:8080/"
        },
        "outputId": "f6f9d99a-a2ad-4c6e-c40e-94f979174cae"
      },
      "execution_count": 164,
      "outputs": [
        {
          "output_type": "stream",
          "name": "stdout",
          "text": [
            "banks_new.txt  banks.txt  \u001b[0m\u001b[01;34msample_data\u001b[0m/  type1.txt  type2.txt\n"
          ]
        }
      ]
    }
  ]
}